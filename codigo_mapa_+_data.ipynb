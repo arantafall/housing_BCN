{
  "nbformat": 4,
  "nbformat_minor": 0,
  "metadata": {
    "colab": {
      "provenance": []
    },
    "kernelspec": {
      "name": "python3",
      "display_name": "Python 3"
    },
    "language_info": {
      "name": "python"
    }
  },
  "cells": [
    {
      "cell_type": "code",
      "execution_count": null,
      "metadata": {
        "id": "M_XPM7CpeCA6"
      },
      "outputs": [],
      "source": [
        "import pandas as pd\n",
        "import geopandas as gpd\n",
        "import folium\n",
        "from folium.features import GeoJsonTooltip\n",
        "\n",
        "geojson_path = \"distritos_barcelona.geojson\"\n",
        "\n",
        "barrios_gdf = gpd.read_file(geojson_path)\n",
        "\n",
        "data[\"neighborhood\"] = data[\"neighborhood\"].str.strip()\n",
        "barrios_gdf[\"nom_districte\"] = barrios_gdf[\"nom_districte\"].str.strip()\n",
        "\n",
        "avg_price_per_neighborhood = data.groupby(\"neighborhood\")[\"price\"].mean().reset_index()\n",
        "avg_price_per_neighborhood.columns = [\"nom_districte\", \"avg_price\"]\n",
        "\n",
        "barrios_gdf = barrios_gdf.merge(avg_price_per_neighborhood, on=\"nom_districte\", how=\"left\")\n",
        "\n",
        "barcelona_map = folium.Map(location=[41.3851, 2.1734], zoom_start=12)\n",
        "\n",
        "folium.Choropleth(\n",
        "    geo_data=barrios_gdf,\n",
        "    name=\"choropleth\",\n",
        "    data=barrios_gdf,\n",
        "    columns=[\"nom_districte\", \"avg_price\"],\n",
        "    key_on=\"feature.properties.nom_districte\",\n",
        "    fill_color=\"YlGnBu\",\n",
        "    fill_opacity=0.7,\n",
        "    line_opacity=0.2,\n",
        "    legend_name=\"Precio medio de vivienda por barrio (€)\"\n",
        ").add_to(barcelona_map)\n",
        "\n",
        "folium.GeoJson(\n",
        "    barrios_gdf,\n",
        "    name=\"tooltip\",\n",
        "    style_function=lambda x: {\n",
        "        'fillColor': 'transparent',\n",
        "        'color': 'transparent'\n",
        "    },\n",
        "    tooltip=GeoJsonTooltip(\n",
        "        fields=[\"nom_districte\", \"avg_price\"],\n",
        "        aliases=[\"Barrio\", \"Precio medio (€)\"],\n",
        "        localize=True,\n",
        "        sticky=False,\n",
        "        labels=True,\n",
        "        max_width=300\n",
        "    )\n",
        ").add_to(barcelona_map)\n",
        "\n",
        "barcelona_map.save(\"mapa_precios_barcelona.html\")\n",
        "\n",
        "print(\"El mapa interactivo se ha guardado como 'mapa_precios_barcelona.html'\")\n"
      ]
    },
    {
      "cell_type": "code",
      "source": [
        "barcelona_map"
      ],
      "metadata": {
        "colab": {
          "base_uri": "https://localhost:8080/",
          "height": 141
        },
        "id": "XCLThFzmfVOM",
        "outputId": "295ce000-f4f2-4507-9b38-d6b56e02b632"
      },
      "execution_count": 1,
      "outputs": [
        {
          "output_type": "error",
          "ename": "NameError",
          "evalue": "name 'barcelona_map' is not defined",
          "traceback": [
            "\u001b[0;31m---------------------------------------------------------------------------\u001b[0m",
            "\u001b[0;31mNameError\u001b[0m                                 Traceback (most recent call last)",
            "\u001b[0;32m<ipython-input-1-a098ba5c7a56>\u001b[0m in \u001b[0;36m<cell line: 1>\u001b[0;34m()\u001b[0m\n\u001b[0;32m----> 1\u001b[0;31m \u001b[0mbarcelona_map\u001b[0m\u001b[0;34m\u001b[0m\u001b[0;34m\u001b[0m\u001b[0m\n\u001b[0m",
            "\u001b[0;31mNameError\u001b[0m: name 'barcelona_map' is not defined"
          ]
        }
      ]
    }
  ]
}