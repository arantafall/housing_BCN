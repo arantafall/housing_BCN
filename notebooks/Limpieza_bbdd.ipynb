{
 "cells": [
  {
   "cell_type": "code",
   "execution_count": 75,
   "metadata": {},
   "outputs": [],
   "source": [
    "import pandas as pd\n",
    "import numpy as np\n",
    "import seaborn as sns"
   ]
  },
  {
   "cell_type": "code",
   "execution_count": 93,
   "metadata": {},
   "outputs": [],
   "source": [
    "data = pd.read_csv(\"../data/Barcelona_Fotocasa_HousingPrices.csv\")"
   ]
  },
  {
   "cell_type": "markdown",
   "metadata": {},
   "source": [
    "# tratamiento valores nulos"
   ]
  },
  {
   "cell_type": "code",
   "execution_count": 95,
   "metadata": {},
   "outputs": [
    {
     "data": {
      "text/plain": [
       "Unnamed: 0             0.000000\n",
       "price                  0.000000\n",
       "rooms                  0.000000\n",
       "bathroom               0.000000\n",
       "lift                   0.000000\n",
       "terrace                0.000000\n",
       "square_meters          0.000000\n",
       "real_state             3.273083\n",
       "neighborhood           0.000000\n",
       "square_meters_price    0.000000\n",
       "dtype: float64"
      ]
     },
     "execution_count": 95,
     "metadata": {},
     "output_type": "execute_result"
    }
   ],
   "source": [
    "# Porcentaje de datos nulos\n",
    "data.isnull().sum()\n",
    "(data.isnull().sum() / len(data)) * 100"
   ]
  },
  {
   "cell_type": "code",
   "execution_count": 96,
   "metadata": {},
   "outputs": [],
   "source": [
    "data = data.dropna(subset=['real_state'])\n",
    "data.reset_index(drop=True, inplace=True)"
   ]
  },
  {
   "cell_type": "markdown",
   "metadata": {},
   "source": [
    "# tratamiento outliers"
   ]
  },
  {
   "cell_type": "code",
   "execution_count": 97,
   "metadata": {},
   "outputs": [
    {
     "data": {
      "text/html": [
       "<div>\n",
       "<style scoped>\n",
       "    .dataframe tbody tr th:only-of-type {\n",
       "        vertical-align: middle;\n",
       "    }\n",
       "\n",
       "    .dataframe tbody tr th {\n",
       "        vertical-align: top;\n",
       "    }\n",
       "\n",
       "    .dataframe thead th {\n",
       "        text-align: right;\n",
       "    }\n",
       "</style>\n",
       "<table border=\"1\" class=\"dataframe\">\n",
       "  <thead>\n",
       "    <tr style=\"text-align: right;\">\n",
       "      <th></th>\n",
       "      <th>Unnamed: 0</th>\n",
       "      <th>price</th>\n",
       "      <th>rooms</th>\n",
       "      <th>bathroom</th>\n",
       "      <th>square_meters</th>\n",
       "      <th>square_meters_price</th>\n",
       "    </tr>\n",
       "  </thead>\n",
       "  <tbody>\n",
       "    <tr>\n",
       "      <th>count</th>\n",
       "      <td>7920.000000</td>\n",
       "      <td>7920.000000</td>\n",
       "      <td>7920.000000</td>\n",
       "      <td>7920.000000</td>\n",
       "      <td>7920.000000</td>\n",
       "      <td>7920.000000</td>\n",
       "    </tr>\n",
       "    <tr>\n",
       "      <th>mean</th>\n",
       "      <td>4102.152399</td>\n",
       "      <td>1434.894949</td>\n",
       "      <td>2.444066</td>\n",
       "      <td>1.504672</td>\n",
       "      <td>84.538636</td>\n",
       "      <td>17.625957</td>\n",
       "    </tr>\n",
       "    <tr>\n",
       "      <th>std</th>\n",
       "      <td>2362.481061</td>\n",
       "      <td>1119.528321</td>\n",
       "      <td>1.125266</td>\n",
       "      <td>0.728770</td>\n",
       "      <td>47.584487</td>\n",
       "      <td>9.015493</td>\n",
       "    </tr>\n",
       "    <tr>\n",
       "      <th>min</th>\n",
       "      <td>0.000000</td>\n",
       "      <td>320.000000</td>\n",
       "      <td>0.000000</td>\n",
       "      <td>1.000000</td>\n",
       "      <td>10.000000</td>\n",
       "      <td>5.555556</td>\n",
       "    </tr>\n",
       "    <tr>\n",
       "      <th>25%</th>\n",
       "      <td>2052.750000</td>\n",
       "      <td>875.000000</td>\n",
       "      <td>2.000000</td>\n",
       "      <td>1.000000</td>\n",
       "      <td>56.000000</td>\n",
       "      <td>12.777778</td>\n",
       "    </tr>\n",
       "    <tr>\n",
       "      <th>50%</th>\n",
       "      <td>4098.500000</td>\n",
       "      <td>1100.000000</td>\n",
       "      <td>2.000000</td>\n",
       "      <td>1.000000</td>\n",
       "      <td>73.000000</td>\n",
       "      <td>15.217391</td>\n",
       "    </tr>\n",
       "    <tr>\n",
       "      <th>75%</th>\n",
       "      <td>6155.250000</td>\n",
       "      <td>1500.000000</td>\n",
       "      <td>3.000000</td>\n",
       "      <td>2.000000</td>\n",
       "      <td>95.000000</td>\n",
       "      <td>19.298246</td>\n",
       "    </tr>\n",
       "    <tr>\n",
       "      <th>max</th>\n",
       "      <td>8187.000000</td>\n",
       "      <td>15000.000000</td>\n",
       "      <td>10.000000</td>\n",
       "      <td>8.000000</td>\n",
       "      <td>679.000000</td>\n",
       "      <td>185.000000</td>\n",
       "    </tr>\n",
       "  </tbody>\n",
       "</table>\n",
       "</div>"
      ],
      "text/plain": [
       "        Unnamed: 0         price        rooms     bathroom  square_meters  \\\n",
       "count  7920.000000   7920.000000  7920.000000  7920.000000    7920.000000   \n",
       "mean   4102.152399   1434.894949     2.444066     1.504672      84.538636   \n",
       "std    2362.481061   1119.528321     1.125266     0.728770      47.584487   \n",
       "min       0.000000    320.000000     0.000000     1.000000      10.000000   \n",
       "25%    2052.750000    875.000000     2.000000     1.000000      56.000000   \n",
       "50%    4098.500000   1100.000000     2.000000     1.000000      73.000000   \n",
       "75%    6155.250000   1500.000000     3.000000     2.000000      95.000000   \n",
       "max    8187.000000  15000.000000    10.000000     8.000000     679.000000   \n",
       "\n",
       "       square_meters_price  \n",
       "count          7920.000000  \n",
       "mean             17.625957  \n",
       "std               9.015493  \n",
       "min               5.555556  \n",
       "25%              12.777778  \n",
       "50%              15.217391  \n",
       "75%              19.298246  \n",
       "max             185.000000  "
      ]
     },
     "execution_count": 97,
     "metadata": {},
     "output_type": "execute_result"
    }
   ],
   "source": [
    "data.describe()"
   ]
  },
  {
   "cell_type": "code",
   "execution_count": 98,
   "metadata": {},
   "outputs": [
    {
     "data": {
      "text/plain": [
       "<Axes: xlabel='square_meters'>"
      ]
     },
     "execution_count": 98,
     "metadata": {},
     "output_type": "execute_result"
    },
    {
     "data": {
      "image/png": "[encoded data removed]",
      "text/plain": [
       "<Figure size 640x480 with 1 Axes>"
      ]
     },
     "metadata": {},
     "output_type": "display_data"
    }
   ],
   "source": [
    "# grafico para detectar outliers en 'square_meters'\n",
    "sns.boxplot(x=data['square_meters'])"
   ]
  },
  {
   "cell_type": "code",
   "execution_count": 99,
   "metadata": {},
   "outputs": [
    {
     "data": {
      "text/html": [
       "<div>\n",
       "<style scoped>\n",
       "    .dataframe tbody tr th:only-of-type {\n",
       "        vertical-align: middle;\n",
       "    }\n",
       "\n",
       "    .dataframe tbody tr th {\n",
       "        vertical-align: top;\n",
       "    }\n",
       "\n",
       "    .dataframe thead th {\n",
       "        text-align: right;\n",
       "    }\n",
       "</style>\n",
       "<table border=\"1\" class=\"dataframe\">\n",
       "  <thead>\n",
       "    <tr style=\"text-align: right;\">\n",
       "      <th></th>\n",
       "      <th>Unnamed: 0</th>\n",
       "      <th>price</th>\n",
       "      <th>rooms</th>\n",
       "      <th>bathroom</th>\n",
       "      <th>lift</th>\n",
       "      <th>terrace</th>\n",
       "      <th>square_meters</th>\n",
       "      <th>real_state</th>\n",
       "      <th>neighborhood</th>\n",
       "      <th>square_meters_price</th>\n",
       "    </tr>\n",
       "  </thead>\n",
       "  <tbody>\n",
       "    <tr>\n",
       "      <th>7455</th>\n",
       "      <td>7706</td>\n",
       "      <td>10750</td>\n",
       "      <td>0</td>\n",
       "      <td>1</td>\n",
       "      <td>True</td>\n",
       "      <td>False</td>\n",
       "      <td>679</td>\n",
       "      <td>flat</td>\n",
       "      <td>Sant Martí</td>\n",
       "      <td>15.832106</td>\n",
       "    </tr>\n",
       "  </tbody>\n",
       "</table>\n",
       "</div>"
      ],
      "text/plain": [
       "      Unnamed: 0  price  rooms  bathroom  lift  terrace  square_meters  \\\n",
       "7455        7706  10750      0         1  True    False            679   \n",
       "\n",
       "     real_state neighborhood  square_meters_price  \n",
       "7455       flat   Sant Martí            15.832106  "
      ]
     },
     "execution_count": 99,
     "metadata": {},
     "output_type": "execute_result"
    }
   ],
   "source": [
    "# Buscamos outliers en 'square_meters'\n",
    "data[data['square_meters'] > 600]"
   ]
  },
  {
   "cell_type": "code",
   "execution_count": 100,
   "metadata": {},
   "outputs": [],
   "source": [
    "# eliminamos la fila con el outlier\n",
    "data.drop(data[data.square_meters > 600].index, inplace=True)\n",
    "data.reset_index(drop=True, inplace=True)"
   ]
  },
  {
   "cell_type": "code",
   "execution_count": 101,
   "metadata": {},
   "outputs": [
    {
     "data": {
      "text/plain": [
       "<Axes: xlabel='price'>"
      ]
     },
     "execution_count": 101,
     "metadata": {},
     "output_type": "execute_result"
    },
    {
     "data": {
      "image/png": "[encoded data removed]",
      "text/plain": [
       "<Figure size 640x480 with 1 Axes>"
      ]
     },
     "metadata": {},
     "output_type": "display_data"
    }
   ],
   "source": [
    "# grafico para detectar outliers en 'price'\n",
    "sns.boxplot(x=data['price'])"
   ]
  },
  {
   "cell_type": "code",
   "execution_count": 102,
   "metadata": {},
   "outputs": [
    {
     "data": {
      "text/html": [
       "<div>\n",
       "<style scoped>\n",
       "    .dataframe tbody tr th:only-of-type {\n",
       "        vertical-align: middle;\n",
       "    }\n",
       "\n",
       "    .dataframe tbody tr th {\n",
       "        vertical-align: top;\n",
       "    }\n",
       "\n",
       "    .dataframe thead th {\n",
       "        text-align: right;\n",
       "    }\n",
       "</style>\n",
       "<table border=\"1\" class=\"dataframe\">\n",
       "  <thead>\n",
       "    <tr style=\"text-align: right;\">\n",
       "      <th></th>\n",
       "      <th>Unnamed: 0</th>\n",
       "      <th>price</th>\n",
       "      <th>rooms</th>\n",
       "      <th>bathroom</th>\n",
       "      <th>lift</th>\n",
       "      <th>terrace</th>\n",
       "      <th>square_meters</th>\n",
       "      <th>real_state</th>\n",
       "      <th>neighborhood</th>\n",
       "      <th>square_meters_price</th>\n",
       "    </tr>\n",
       "  </thead>\n",
       "  <tbody>\n",
       "    <tr>\n",
       "      <th>1427</th>\n",
       "      <td>1487</td>\n",
       "      <td>14800</td>\n",
       "      <td>1</td>\n",
       "      <td>1</td>\n",
       "      <td>True</td>\n",
       "      <td>False</td>\n",
       "      <td>80</td>\n",
       "      <td>apartment</td>\n",
       "      <td>Ciutat Vella</td>\n",
       "      <td>185.000000</td>\n",
       "    </tr>\n",
       "    <tr>\n",
       "      <th>1705</th>\n",
       "      <td>1772</td>\n",
       "      <td>15000</td>\n",
       "      <td>4</td>\n",
       "      <td>1</td>\n",
       "      <td>True</td>\n",
       "      <td>False</td>\n",
       "      <td>450</td>\n",
       "      <td>flat</td>\n",
       "      <td>Sarria-Sant Gervasi</td>\n",
       "      <td>33.333333</td>\n",
       "    </tr>\n",
       "    <tr>\n",
       "      <th>2335</th>\n",
       "      <td>2427</td>\n",
       "      <td>15000</td>\n",
       "      <td>4</td>\n",
       "      <td>3</td>\n",
       "      <td>True</td>\n",
       "      <td>False</td>\n",
       "      <td>450</td>\n",
       "      <td>apartment</td>\n",
       "      <td>Sarria-Sant Gervasi</td>\n",
       "      <td>33.333333</td>\n",
       "    </tr>\n",
       "    <tr>\n",
       "      <th>2653</th>\n",
       "      <td>2754</td>\n",
       "      <td>15000</td>\n",
       "      <td>4</td>\n",
       "      <td>5</td>\n",
       "      <td>True</td>\n",
       "      <td>True</td>\n",
       "      <td>450</td>\n",
       "      <td>flat</td>\n",
       "      <td>Sarria-Sant Gervasi</td>\n",
       "      <td>33.333333</td>\n",
       "    </tr>\n",
       "    <tr>\n",
       "      <th>4076</th>\n",
       "      <td>4220</td>\n",
       "      <td>15000</td>\n",
       "      <td>4</td>\n",
       "      <td>3</td>\n",
       "      <td>True</td>\n",
       "      <td>True</td>\n",
       "      <td>450</td>\n",
       "      <td>flat</td>\n",
       "      <td>Sarria-Sant Gervasi</td>\n",
       "      <td>33.333333</td>\n",
       "    </tr>\n",
       "    <tr>\n",
       "      <th>4565</th>\n",
       "      <td>4725</td>\n",
       "      <td>15000</td>\n",
       "      <td>4</td>\n",
       "      <td>4</td>\n",
       "      <td>True</td>\n",
       "      <td>True</td>\n",
       "      <td>475</td>\n",
       "      <td>apartment</td>\n",
       "      <td>Sarria-Sant Gervasi</td>\n",
       "      <td>31.578947</td>\n",
       "    </tr>\n",
       "    <tr>\n",
       "      <th>6718</th>\n",
       "      <td>6951</td>\n",
       "      <td>15000</td>\n",
       "      <td>2</td>\n",
       "      <td>3</td>\n",
       "      <td>False</td>\n",
       "      <td>False</td>\n",
       "      <td>288</td>\n",
       "      <td>flat</td>\n",
       "      <td>Eixample</td>\n",
       "      <td>52.083333</td>\n",
       "    </tr>\n",
       "    <tr>\n",
       "      <th>7399</th>\n",
       "      <td>7646</td>\n",
       "      <td>15000</td>\n",
       "      <td>4</td>\n",
       "      <td>5</td>\n",
       "      <td>True</td>\n",
       "      <td>False</td>\n",
       "      <td>380</td>\n",
       "      <td>apartment</td>\n",
       "      <td>Sarria-Sant Gervasi</td>\n",
       "      <td>39.473684</td>\n",
       "    </tr>\n",
       "    <tr>\n",
       "      <th>7670</th>\n",
       "      <td>7928</td>\n",
       "      <td>15000</td>\n",
       "      <td>4</td>\n",
       "      <td>4</td>\n",
       "      <td>True</td>\n",
       "      <td>False</td>\n",
       "      <td>450</td>\n",
       "      <td>flat</td>\n",
       "      <td>Sarria-Sant Gervasi</td>\n",
       "      <td>33.333333</td>\n",
       "    </tr>\n",
       "  </tbody>\n",
       "</table>\n",
       "</div>"
      ],
      "text/plain": [
       "      Unnamed: 0  price  rooms  bathroom   lift  terrace  square_meters  \\\n",
       "1427        1487  14800      1         1   True    False             80   \n",
       "1705        1772  15000      4         1   True    False            450   \n",
       "2335        2427  15000      4         3   True    False            450   \n",
       "2653        2754  15000      4         5   True     True            450   \n",
       "4076        4220  15000      4         3   True     True            450   \n",
       "4565        4725  15000      4         4   True     True            475   \n",
       "6718        6951  15000      2         3  False    False            288   \n",
       "7399        7646  15000      4         5   True    False            380   \n",
       "7670        7928  15000      4         4   True    False            450   \n",
       "\n",
       "     real_state         neighborhood  square_meters_price  \n",
       "1427  apartment         Ciutat Vella           185.000000  \n",
       "1705       flat  Sarria-Sant Gervasi            33.333333  \n",
       "2335  apartment  Sarria-Sant Gervasi            33.333333  \n",
       "2653       flat  Sarria-Sant Gervasi            33.333333  \n",
       "4076       flat  Sarria-Sant Gervasi            33.333333  \n",
       "4565  apartment  Sarria-Sant Gervasi            31.578947  \n",
       "6718       flat             Eixample            52.083333  \n",
       "7399  apartment  Sarria-Sant Gervasi            39.473684  \n",
       "7670       flat  Sarria-Sant Gervasi            33.333333  "
      ]
     },
     "execution_count": 102,
     "metadata": {},
     "output_type": "execute_result"
    }
   ],
   "source": [
    "# Buscamos outliers en 'price'\n",
    "data[data['price'] > 14500]"
   ]
  },
  {
   "cell_type": "code",
   "execution_count": 103,
   "metadata": {},
   "outputs": [],
   "source": [
    "# eliminamos los outliers en 'price'\n",
    "data.drop(data[data.price > 14500].index, inplace=True)\n",
    "data.reset_index(drop=True, inplace=True)"
   ]
  },
  {
   "cell_type": "code",
   "execution_count": 104,
   "metadata": {},
   "outputs": [
    {
     "data": {
      "text/plain": [
       "<Axes: xlabel='square_meters_price'>"
      ]
     },
     "execution_count": 104,
     "metadata": {},
     "output_type": "execute_result"
    },
    {
     "data": {
      "image/png": "[encoded data removed]",
      "text/plain": [
       "<Figure size 640x480 with 1 Axes>"
      ]
     },
     "metadata": {},
     "output_type": "display_data"
    }
   ],
   "source": [
    "# grafico para detectar outliers en 'square_meters_price'\n",
    "sns.boxplot(x=data['square_meters_price'])"
   ]
  },
  {
   "cell_type": "code",
   "execution_count": 105,
   "metadata": {},
   "outputs": [
    {
     "data": {
      "text/html": [
       "<div>\n",
       "<style scoped>\n",
       "    .dataframe tbody tr th:only-of-type {\n",
       "        vertical-align: middle;\n",
       "    }\n",
       "\n",
       "    .dataframe tbody tr th {\n",
       "        vertical-align: top;\n",
       "    }\n",
       "\n",
       "    .dataframe thead th {\n",
       "        text-align: right;\n",
       "    }\n",
       "</style>\n",
       "<table border=\"1\" class=\"dataframe\">\n",
       "  <thead>\n",
       "    <tr style=\"text-align: right;\">\n",
       "      <th></th>\n",
       "      <th>Unnamed: 0</th>\n",
       "      <th>price</th>\n",
       "      <th>rooms</th>\n",
       "      <th>bathroom</th>\n",
       "      <th>lift</th>\n",
       "      <th>terrace</th>\n",
       "      <th>square_meters</th>\n",
       "      <th>real_state</th>\n",
       "      <th>neighborhood</th>\n",
       "      <th>square_meters_price</th>\n",
       "    </tr>\n",
       "  </thead>\n",
       "  <tbody>\n",
       "  </tbody>\n",
       "</table>\n",
       "</div>"
      ],
      "text/plain": [
       "Empty DataFrame\n",
       "Columns: [Unnamed: 0, price, rooms, bathroom, lift, terrace, square_meters, real_state, neighborhood, square_meters_price]\n",
       "Index: []"
      ]
     },
     "execution_count": 105,
     "metadata": {},
     "output_type": "execute_result"
    }
   ],
   "source": [
    "# Buscamos outliers en 'square_meters_price'\n",
    "data[data['square_meters_price'] > 175]"
   ]
  },
  {
   "cell_type": "code",
   "execution_count": 106,
   "metadata": {},
   "outputs": [],
   "source": [
    "# eliminamos los outliers en 'square_meters_price'\n",
    "data.drop(data[data.square_meters_price > 175].index, inplace=True)\n",
    "data.reset_index(drop=True, inplace=True)"
   ]
  },
  {
   "cell_type": "code",
   "execution_count": 107,
   "metadata": {},
   "outputs": [
    {
     "data": {
      "text/html": [
       "<div>\n",
       "<style scoped>\n",
       "    .dataframe tbody tr th:only-of-type {\n",
       "        vertical-align: middle;\n",
       "    }\n",
       "\n",
       "    .dataframe tbody tr th {\n",
       "        vertical-align: top;\n",
       "    }\n",
       "\n",
       "    .dataframe thead th {\n",
       "        text-align: right;\n",
       "    }\n",
       "</style>\n",
       "<table border=\"1\" class=\"dataframe\">\n",
       "  <thead>\n",
       "    <tr style=\"text-align: right;\">\n",
       "      <th></th>\n",
       "      <th>Unnamed: 0</th>\n",
       "      <th>price</th>\n",
       "      <th>rooms</th>\n",
       "      <th>bathroom</th>\n",
       "      <th>lift</th>\n",
       "      <th>terrace</th>\n",
       "      <th>square_meters</th>\n",
       "      <th>real_state</th>\n",
       "      <th>neighborhood</th>\n",
       "      <th>square_meters_price</th>\n",
       "    </tr>\n",
       "  </thead>\n",
       "  <tbody>\n",
       "    <tr>\n",
       "      <th>302</th>\n",
       "      <td>312</td>\n",
       "      <td>8482</td>\n",
       "      <td>4</td>\n",
       "      <td>7</td>\n",
       "      <td>True</td>\n",
       "      <td>True</td>\n",
       "      <td>225</td>\n",
       "      <td>flat</td>\n",
       "      <td>Les Corts</td>\n",
       "      <td>37.697778</td>\n",
       "    </tr>\n",
       "    <tr>\n",
       "      <th>5763</th>\n",
       "      <td>5985</td>\n",
       "      <td>1995</td>\n",
       "      <td>4</td>\n",
       "      <td>8</td>\n",
       "      <td>False</td>\n",
       "      <td>False</td>\n",
       "      <td>100</td>\n",
       "      <td>flat</td>\n",
       "      <td>Eixample</td>\n",
       "      <td>19.950000</td>\n",
       "    </tr>\n",
       "    <tr>\n",
       "      <th>7459</th>\n",
       "      <td>7719</td>\n",
       "      <td>5500</td>\n",
       "      <td>5</td>\n",
       "      <td>8</td>\n",
       "      <td>True</td>\n",
       "      <td>True</td>\n",
       "      <td>280</td>\n",
       "      <td>attic</td>\n",
       "      <td>Sarria-Sant Gervasi</td>\n",
       "      <td>19.642857</td>\n",
       "    </tr>\n",
       "  </tbody>\n",
       "</table>\n",
       "</div>"
      ],
      "text/plain": [
       "      Unnamed: 0  price  rooms  bathroom   lift  terrace  square_meters  \\\n",
       "302          312   8482      4         7   True     True            225   \n",
       "5763        5985   1995      4         8  False    False            100   \n",
       "7459        7719   5500      5         8   True     True            280   \n",
       "\n",
       "     real_state         neighborhood  square_meters_price  \n",
       "302        flat            Les Corts            37.697778  \n",
       "5763       flat             Eixample            19.950000  \n",
       "7459      attic  Sarria-Sant Gervasi            19.642857  "
      ]
     },
     "execution_count": 107,
     "metadata": {},
     "output_type": "execute_result"
    }
   ],
   "source": [
    "# Estos resultados de viviendas con mas de 6 baños son bastante sospechosos \n",
    "data[data['bathroom'] > 6]"
   ]
  },
  {
   "cell_type": "code",
   "execution_count": 108,
   "metadata": {},
   "outputs": [],
   "source": [
    "# así que también los vamos a eliminar\n",
    "data.drop(data[data['bathroom'] > 6].index, inplace=True)\n",
    "data.reset_index(drop=True, inplace=True)"
   ]
  },
  {
   "cell_type": "code",
   "execution_count": 109,
   "metadata": {},
   "outputs": [],
   "source": [
    "# Lo guardamos todo en un nuevo archivo de base de datos\n",
    "data.to_csv('../data/base_dades_neta.csv', index=False)"
   ]
  }
 ],
 "metadata": {
  "kernelspec": {
   "display_name": "Python 3",
   "language": "python",
   "name": "python3"
  },
  "language_info": {
   "codemirror_mode": {
    "name": "ipython",
    "version": 3
   },
   "file_extension": ".py",
   "mimetype": "text/x-python",
   "name": "python",
   "nbconvert_exporter": "python",
   "pygments_lexer": "ipython3",
   "version": "3.10.6"
  }
 },
 "nbformat": 4,
 "nbformat_minor": 2
}
