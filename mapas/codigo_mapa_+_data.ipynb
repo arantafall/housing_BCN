{
  "nbformat": 4,
  "nbformat_minor": 0,
  "metadata": {
    "colab": {
      "provenance": []
    },
    "kernelspec": {
      "name": "python3",
      "display_name": "Python 3"
    },
    "language_info": {
      "name": "python"
    }
  },
  "cells": [
    {
      "cell_type": "code",
      "source": [
        "data_neta = pd.read_csv(\"./housing_BCN/data/base_dades_neta.csv\")"
      ],
      "metadata": {
        "id": "Rz6GbDSc4bhG"
      },
      "execution_count": null,
      "outputs": []
    },
    {
      "cell_type": "code",
      "source": [
        "data_neta[\"neighborhood\"] = data_neta[\"neighborhood\"].replace({\n",
        "    \"Sarria-Sant Gervasi\": \"Sarrià-Sant Gervasi\",\n",
        "    \"Horta- Guinardo\": \"Horta-Guinardó\"})"
      ],
      "metadata": {
        "id": "MtsA1lch4dJ9"
      },
      "execution_count": null,
      "outputs": []
    },
    {
      "cell_type": "code",
      "source": [
        "geojson_path = \"./housing_BCN/mapas/distritos_barcelona.geojson\"\n",
        "\n",
        "barrios_gdf = gpd.read_file(geojson_path)\n",
        "\n",
        "data_neta[\"neighborhood\"] = data_neta[\"neighborhood\"].str.strip()\n",
        "barrios_gdf[\"nom_districte\"] = barrios_gdf[\"nom_districte\"].str.strip()\n",
        "\n",
        "avg_price_per_neighborhood = data_neta.groupby(\"neighborhood\")[\"price\"].mean().reset_index()\n",
        "avg_price_per_neighborhood.columns = [\"nom_districte\", \"avg_price\"]\n",
        "\n",
        "barrios_gdf = barrios_gdf.merge(avg_price_per_neighborhood, on=\"nom_districte\", how=\"left\")\n",
        "\n",
        "barcelona_map = folium.Map(location=[41.3851, 2.1734], zoom_start=12)\n",
        "\n",
        "folium.Choropleth(\n",
        "    geo_data=barrios_gdf,\n",
        "    name=\"choropleth\",\n",
        "    data=barrios_gdf,\n",
        "    columns=[\"nom_districte\", \"avg_price\"],\n",
        "    key_on=\"feature.properties.nom_districte\",\n",
        "    fill_color=\"YlGnBu\",\n",
        "    fill_opacity=0.7,\n",
        "    line_opacity=0.2,\n",
        "    legend_name=\"Precio medio de vivienda por barrio (€)\"\n",
        ").add_to(barcelona_map)\n",
        "\n",
        "folium.GeoJson(\n",
        "    barrios_gdf,\n",
        "    name=\"tooltip\",\n",
        "    style_function=lambda x: {\n",
        "        'fillColor': 'transparent',\n",
        "        'color': 'transparent'\n",
        "    },\n",
        "    tooltip=GeoJsonTooltip(\n",
        "        fields=[\"nom_districte\", \"avg_price\"],\n",
        "        aliases=[\"Barrio\", \"Precio medio (€)\"],\n",
        "        localize=True,\n",
        "        sticky=False,\n",
        "        labels=True,\n",
        "        max_width=300\n",
        "    )\n",
        ").add_to(barcelona_map)"
      ],
      "metadata": {
        "id": "mw9lIXjF4j1t"
      },
      "execution_count": null,
      "outputs": []
    },
    {
      "cell_type": "code",
      "source": [
        "barrios_gdf"
      ],
      "metadata": {
        "id": "j0irg3BU4r8E"
      },
      "execution_count": null,
      "outputs": []
    },
    {
      "cell_type": "code",
      "source": [
        "barcelona_map"
      ],
      "metadata": {
        "id": "x2kaeh1z4tt0"
      },
      "execution_count": null,
      "outputs": []
    }
  ]
}